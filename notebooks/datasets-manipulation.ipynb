{
 "cells": [
  {
   "cell_type": "code",
   "execution_count": 3,
   "metadata": {},
   "outputs": [
    {
     "name": "stdout",
     "output_type": "stream",
     "text": [
      "done\n"
     ]
    }
   ],
   "source": [
    "import pandas as pd\n",
    "\n",
    "def select_columns_from_dataset():\n",
    "    df = pd.read_csv(r'confusion-reports\\ics_fc\\round3-train-dataset\\round3-train-dataset_fc_square-30-random_filters.csv')\n",
    "#     for col_to_delete in ['square30_r_mean_diff', 'square30_r_std_diff', 'square30_r_mean', 'square30_r_std']:\n",
    "    for col_to_delete in ['square30_r_mean_diff', 'square30_r_std_diff', 'square30_r_mean', 'square30_r_std']:\n",
    "        del df[col_to_delete]\n",
    "    df.to_csv(r'confusion-reports\\ics_fc\\round3-train-dataset\\round3-train-dataset_filters.csv', index=False)\n",
    "\n",
    "def merge_datasets():\n",
    "    for size in [30]:\n",
    "        df_to_modify_and_save = pd.read_csv(fr'confusion-reports\\ics_fc\\round3-train-dataset\\round3-train-dataset_fc_filters.csv')\n",
    "        df_to_copy_columns_from = pd.read_csv(fr'confusion-reports\\ics_fc\\round3-train-dataset\\round3-train-dataset_fc_square-{size}-gray.csv')\n",
    "        for col in [f'square{size}_mean_diff', f'square{size}_std_diff', f'square{size}_mean', f'square{size}_std']:\n",
    "            df_to_modify_and_save[col] = df_to_copy_columns_from[col]\n",
    "        new_order_for_columns = [\n",
    "            'model_name', 'model_architecture', 'model_label', 'trigger_type_aux',\n",
    "\n",
    "            f'square{size}_mean_diff', f'square{size}_std_diff',\n",
    "            'gotham_mean_diff', 'gotham_std_diff',\n",
    "            'kelvin_mean_diff', 'kelvin_std_diff',\n",
    "            'lomo_mean_diff', 'lomo_std_diff',\n",
    "            'nashville_mean_diff', 'nashville_std_diff',\n",
    "            'toaster_mean_diff', 'toaster_std_diff',\n",
    "\n",
    "            'clean_mean', 'clean_std',\n",
    "            f'square{size}_mean', f'square{size}_std',\n",
    "            'gotham_mean', 'gotham_std',\n",
    "            'kelvin_mean', 'kelvin_std',\n",
    "            'lomo_mean', 'lomo_std',\n",
    "            'nashville_mean', 'nashville_std',\n",
    "            'toaster_mean', 'toaster_std',\n",
    "\n",
    "            'trigger_color', 'num_classes',\n",
    "        ]\n",
    "        df_to_modify_and_save = df_to_modify_and_save[new_order_for_columns]\n",
    "        df_to_modify_and_save.to_csv(fr'confusion-reports\\ics_fc\\round3-train-dataset\\round3-train-dataset_fc_square-{size}-gray_filters.csv', index=False)\n",
    "\n",
    "def correct_column_in_dataset():\n",
    "    df_with_correct_column = pd.read_csv(r'confusion-reports\\ics_svm\\round3-train-dataset\\round3-columns.csv')\n",
    "    column = 'trigger_type_aux'\n",
    "    for size in [10, 15, 20, 25,30, 35, 40, 45, 50]:\n",
    "        file = fr'confusion-reports\\ics_svm\\round3-train-dataset\\round3-train-dataset_square-{size}-filters_all-classes_gray.csv'\n",
    "        df_to_be_corrected = pd.read_csv(file)\n",
    "        df_to_be_corrected[column] = df_with_correct_column[column]\n",
    "        df_to_be_corrected.to_csv(file, index=False)\n",
    "merge_datasets()\n",
    "# select_columns_from_dataset()\n",
    "# correct_column_in_dataset()\n",
    "print('done')"
   ]
  },
  {
   "cell_type": "code",
   "execution_count": null,
   "metadata": {},
   "outputs": [],
   "source": []
  }
 ],
 "metadata": {
  "kernelspec": {
   "display_name": "Python 3",
   "language": "python",
   "name": "python3"
  },
  "language_info": {
   "codemirror_mode": {
    "name": "ipython",
    "version": 3
   },
   "file_extension": ".py",
   "mimetype": "text/x-python",
   "name": "python",
   "nbconvert_exporter": "python",
   "pygments_lexer": "ipython3",
   "version": "3.8.5"
  }
 },
 "nbformat": 4,
 "nbformat_minor": 4
}
