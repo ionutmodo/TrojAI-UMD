{
 "cells": [
  {
   "cell_type": "code",
   "execution_count": 1,
   "metadata": {},
   "outputs": [
    {
     "name": "stdout",
     "output_type": "stream",
     "text": [
      "done\n"
     ]
    }
   ],
   "source": [
    "import sys\n",
    "import numpy as np\n",
    "np.set_printoptions(suppress=True, precision=4)\n",
    "import pandas as pd\n",
    "pd.set_option('display.width', 1000)\n",
    "pd.set_option('display.max_columns', 500)\n",
    "pd.options.display.float_format = '{:,.4f}'.format\n",
    "import seaborn as sns\n",
    "import matplotlib.pyplot as plt\n",
    "import chart_studio.plotly as py\n",
    "import plotly.graph_objs as go\n",
    "from sklearn import svm\n",
    "from sklearn.linear_model import LogisticRegression\n",
    "from sklearn.ensemble import RandomForestClassifier, GradientBoostingClassifier\n",
    "from sklearn.metrics import log_loss, make_scorer, accuracy_score, precision_score, recall_score, confusion_matrix, roc_curve, roc_auc_score\n",
    "from sklearn.model_selection import StratifiedKFold, RepeatedStratifiedKFold, cross_val_score, GridSearchCV\n",
    "from sklearn.preprocessing import StandardScaler, MinMaxScaler, OneHotEncoder, LabelEncoder\n",
    "from sklearn.utils import class_weight\n",
    "from sklearn.pipeline import Pipeline, make_pipeline\n",
    "from sklearn.naive_bayes import GaussianNB\n",
    "from sklearn.ensemble import IsolationForest\n",
    "from sklearn.metrics import log_loss, make_scorer\n",
    "from keras.models import Sequential\n",
    "from keras.layers import Dense\n",
    "from keras.wrappers.scikit_learn import KerasClassifier\n",
    "from tensorflow.keras.metrics import BinaryCrossentropy\n",
    "from methods import *\n",
    "import torch\n",
    "import pickle, os\n",
    "import skopt\n",
    "from skopt import BayesSearchCV, gp_minimize\n",
    "from skopt.space import Integer\n",
    "from skopt.space import Real\n",
    "from skopt.space import Categorical\n",
    "from skopt.utils import use_named_args\n",
    "import shutil\n",
    "import warnings\n",
    "warnings.filterwarnings(\"ignore\")\n",
    "print('done')"
   ]
  },
  {
   "cell_type": "code",
   "execution_count": 2,
   "metadata": {},
   "outputs": [],
   "source": [
    "%config IPCompleter.greedy=True"
   ]
  },
  {
   "cell_type": "code",
   "execution_count": 3,
   "metadata": {},
   "outputs": [
    {
     "name": "stdout",
     "output_type": "stream",
     "text": [
      "done\n"
     ]
    }
   ],
   "source": [
    "%load_ext autoreload\n",
    "%autoreload 2\n",
    "print('done')"
   ]
  },
  {
   "cell_type": "markdown",
   "metadata": {},
   "source": [
    "# Explore dataset"
   ]
  },
  {
   "cell_type": "code",
   "execution_count": null,
   "metadata": {},
   "outputs": [],
   "source": [
    "# path_csv = fr'confusion-reports\\ics_svm\\round3-train-dataset\\round3-train-dataset_square-30-random_filters.csv'\n",
    "# path_csv = fr'confusion-reports\\ics_fc\\round3-train-dataset\\round3-train-dataset_fc_square-30-random_filters.csv'\n",
    "path_csv = fr'confusion-reports/conf_mat/round3-train-dataset_fc_square-30-gray_filters_h_kl.csv'\n",
    "df = pd.read_csv(path_csv)\n",
    "df.describe()"
   ]
  },
  {
   "cell_type": "code",
   "execution_count": null,
   "metadata": {},
   "outputs": [],
   "source": [
    "path_csv = fr'confusion-reports/conf_mat/round3-train-dataset_fc_square-30-random_filters_h_kl.csv'\n",
    "df = pd.read_csv(path_csv)\n",
    "labels = df['model_label']\n",
    "for x in ['model_name', 'model_architecture', 'architecture_code', 'trigger_color', 'num_classes', 'trigger_type_aux']:\n",
    "    del df[x]\n",
    "for k in ['clean', 'square30', 'gotham', 'kelvin', 'lomo', 'nashville', 'toaster']:\n",
    "    df[f'ch_{k}'] = df[f'h_{k}'] + df[f'kl_{k}']\n",
    "#     del df[f'h_{k}'], df[f'kl_{k}']\n",
    "plt.figure(figsize=(40,20)).patch.set_color('white')\n",
    "sns.heatmap(df.corr(), annot=True, cmap='YlGnBu')\n",
    "# df.head()"
   ]
  },
  {
   "cell_type": "code",
   "execution_count": null,
   "metadata": {},
   "outputs": [],
   "source": [
    "# path_csv = fr'confusion-reports/conf_mat/round3-train-dataset_fc_square-30-gray_filters_h_kl.csv'\n",
    "path_csv = fr'confusion-reports/conf_mat/round3-train-dataset_fc_square-30-random_filters_h_kl.csv'\n",
    "# path_csv = fr'confusion-reports\\ics_fc\\round3-train-dataset\\round3-train-dataset_fc_square-30-random_filters.csv'\n",
    "X, y = read_features(path_csv, trigger_type_aux_str='polygon', arch=None, data='hkl', append_arch=False, arch_one_hot=False)\n",
    "# X, y = read_features(path_csv, trigger_type_aux_str='polygon', arch=None, data='diffs', append_arch=False, arch_one_hot=False)\n",
    "print(X.shape)\n",
    "# X = StandardScaler().fit_transform(X)\n",
    "arr = ['h_clean', 'kl_clean', 'h_square30', 'kl_square30', 'h_gotham', 'kl_gotham', 'h_kelvin', 'kl_kelvin', 'h_lomo', 'kl_lomo', 'h_nashville', 'kl_nashville', 'h_toaster', 'kl_toaster']\n",
    "# arr = ['square30_r_mean_diff', 'square30_r_std_diff', 'gotham_mean_diff', 'gotham_std_diff', 'kelvin_mean_diff', 'kelvin_std_diff', 'lomo_mean_diff', 'lomo_std_diff', 'nashville_mean_diff', 'nashville_std_diff', 'toaster_mean_diff', 'toaster_std_diff']\n",
    "print(list(zip(arr, X[0,:].tolist())))\n",
    "\n",
    "i, j = arr.index('h_clean'), arr.index('h_square30')\n",
    "# i, j = arr.index('square30_r_mean_diff'), arr.index('square30_r_std_diff')\n",
    "\n",
    "f1, f2 = abs(X[:, i]), abs(X[:, j])\n",
    "# f1 = np.log(f1)\n",
    "f2 = np.log(f2)\n",
    "plt.figure(figsize=(20,15)).patch.set_color('white')\n",
    "plt.scatter(f1, f2, c=[['blue', 'red'][vy] for vy in y], s=15.0)\n",
    "# plt.legend()\n",
    "plt.grid()\n",
    "# Good results for H+KL:\n",
    "# indexes=3,4, log(|f1|), log(|f2|), h+kl (kl_square30, h_gotham)\n",
    "# indexes=3,5 (kl_square30, kl_gotham)\n",
    "# indexes=3,5 (kl_square30, kl_toaster)\n",
    "\n",
    "# with standardization:\n",
    "# 3, 4, log f1, log f2"
   ]
  },
  {
   "cell_type": "markdown",
   "metadata": {},
   "source": [
    "## Correlation Plot"
   ]
  },
  {
   "cell_type": "code",
   "execution_count": null,
   "metadata": {
    "scrolled": false
   },
   "outputs": [],
   "source": [
    "# path_csv = fr'confusion-reports\\ics_svm\\round3-train-dataset\\round3-train-dataset_square-30-filters_all-classes_gray.csv'\n",
    "# path_csv = fr'confusion-reports\\ics_fc\\round3-train-dataset\\round3-train-dataset_fc_square-30-gray_filters.csv'\n",
    "# path_csv = fr'confusion-reports\\ics_fc\\round3-train-dataset\\round3-train-dataset_fc_square-30-random_filters.csv'\n",
    "# path_csv = fr'confusion-reports/conf_mat/round3-train-dataset_fc_square-30-gray_filters_h_kl.csv'\n",
    "path_csv = fr'confusion-reports/conf_mat/round3-train-dataset_fc_square-30-random_filters_h_kl.csv'\n",
    "df = pd.read_csv(path_csv)\n",
    "df = df[df['model_architecture'].str.contains('vgg')]\n",
    "df['model_label'] = 1 - df['model_label'].astype('category').cat.codes\n",
    "del df['num_classes']\n",
    "indexes = []\n",
    "arch = None\n",
    "if arch is not None:\n",
    "    for i in range(len(df)):\n",
    "        if df['model_architecture'].iloc[i].startswith(arch):\n",
    "            indexes.append(i)\n",
    "    df = df.iloc[indexes]\n",
    "for c in df.columns:\n",
    "    if c.endswith('mean') or c.endswith('std'):# or c.startswith('h'):\n",
    "#     if c.endswith('diff'):\n",
    "        del df[c]\n",
    "print(df.shape)\n",
    "print(df.iloc[0])\n",
    "\n",
    "for k in ['clean', 'square30', 'gotham', 'kelvin', 'lomo', 'nashville', 'toaster']:\n",
    "    df[f'kl_{k}'] = np.log(df[f'kl_{k}'])\n",
    "    df[f'h_{k}'] = np.log(df[f'h_{k}'])\n",
    "\n",
    "plt.figure(figsize=(40,20)).patch.set_color('white')\n",
    "sns.heatmap(df.corr(), annot=True, cmap='YlGnBu')\n",
    "\n",
    "# plt.figure(figsize=(30,12)).patch.set_color('white')\n",
    "# sns.pairplot(df, hue='model_label')"
   ]
  },
  {
   "cell_type": "markdown",
   "metadata": {},
   "source": [
    "## Box-plots"
   ]
  },
  {
   "cell_type": "code",
   "execution_count": null,
   "metadata": {
    "scrolled": false
   },
   "outputs": [],
   "source": [
    "# path_csv = fr'confusion-reports\\ics_svm\\round3-train-dataset\\round3-train-dataset_square-30-filters_all-classes_gray.csv'\n",
    "# path_csv = fr'confusion-reports\\ics_fc\\round3-train-dataset\\round3-train-dataset_fc_square-30-gray_filters.csv'\n",
    "path_csv = fr'confusion-reports\\ics_fc\\round3-train-dataset\\round3-train-dataset_fc_square-30-random_filters.csv'\n",
    "# path_csv = fr'confusion-reports/conf_mat/round3-train-dataset_fc_square30-gray_filters_h_kl.csv'\n",
    "df = pd.read_csv(path_csv)\n",
    "df['model_label'] = 1 - df['model_label'].astype('category').cat.codes\n",
    "del df['num_classes'], df['model_name']\n",
    "indexes = []\n",
    "arch = None\n",
    "if arch is not None:\n",
    "    for i in range(len(df)):\n",
    "        if df['model_architecture'].iloc[i].startswith(arch):\n",
    "            indexes.append(i)\n",
    "    df = df.iloc[indexes]\n",
    "for c in df.columns:\n",
    "    if c.endswith('mean') or c.endswith('std'):\n",
    "#     if c.endswith('diff'):\n",
    "        del df[c]\n",
    "del df['model_architecture'], df['architecture_code'], df['trigger_type_aux'], df['trigger_color']#, df['model_label']\n",
    "print(df.columns.tolist())\n",
    "for c in df.columns:\n",
    "#     if c.startswith('h'):\n",
    "    if c.endswith('mean_diff'):\n",
    "        plt.figure().patch.set_color('white')\n",
    "        sns.boxplot(x=\"model_label\", y=c, hue=\"model_label\", data=df, palette=\"Set3\")\n",
    "print('done')"
   ]
  },
  {
   "cell_type": "code",
   "execution_count": null,
   "metadata": {},
   "outputs": [],
   "source": [
    "# path_csv = fr'confusion-reports\\ics_svm\\round3-train-dataset\\round3-train-dataset_square-30-filters_all-classes_gray.csv'\n",
    "path_csv = fr'confusion-reports\\ics_fc\\round3-train-dataset\\round3-train-dataset_fc_square-30-gray_filters.csv'\n",
    "df = pd.read_csv(path_csv)\n",
    "df['model_label'] = 1 - df['model_label'].astype('category').cat.codes\n",
    "indexes = []\n",
    "arch = None\n",
    "if arch is not None:\n",
    "    for i in range(len(df)):\n",
    "        if df['model_architecture'].iloc[i].startswith(arch):\n",
    "            indexes.append(i)\n",
    "    df = df.iloc[indexes]\n",
    "for c in df.columns:\n",
    "    if c.endswith('mean') or c.endswith('std'):\n",
    "#     if c.endswith('diff'):\n",
    "        del df[c]\n",
    "del df['model_architecture'], df['trigger_type_aux'], df['trigger_color'], df['num_classes'], df['model_name']\n",
    "# print(df.head())\n",
    "\n",
    "data = df.values\n",
    "X, y = data[:, 1:], data[:, 0]\n",
    "iso = IsolationForest(contamination=0.1)\n",
    "yhat = iso.fit_predict(X)\n",
    "mask = np.where(yhat == 1)[0]\n",
    "print(mask.shape)\n",
    "del df['model_label']\n",
    "plt.figure(figsize=(30, 12)).patch.set_color('white')\n",
    "df.iloc[mask].boxplot()"
   ]
  },
  {
   "cell_type": "markdown",
   "metadata": {},
   "source": [
    "# Stratified K-fold validation for a full training dataset (square-size and 5 filters)"
   ]
  },
  {
   "cell_type": "code",
   "execution_count": null,
   "metadata": {
    "scrolled": false
   },
   "outputs": [],
   "source": [
    "n_splits = 10\n",
    "n_repeats = 5\n",
    "\n",
    "for size in [30]: #[10, 15, 20, 25, 30, 35, 40, 45, 50]:\n",
    "#     path_csv = fr'confusion-reports\\ics_svm\\round3-train-dataset\\round3-train-dataset_square-{size}_filters.csv'\n",
    "#     path_csv = fr'confusion-reports\\ics_svm\\round3-train-dataset\\round3-train-dataset_square-{size}-random_filters.csv'\n",
    "#     path_csv = fr'confusion-reports\\ics_fc\\round3-train-dataset\\round3-train-dataset_fc_square-{size}-gray_filters.csv'\n",
    "#     path_csv = fr'confusion-reports\\ics_fc\\round3-train-dataset\\round3-train-dataset_fc_square-{size}-random_filters.csv'\n",
    "#     path_csv = fr'confusion-reports/conf_mat/round3-train-dataset_fc_square-{size}-gray_filters_h_kl.csv'\n",
    "    path_csv = fr'confusion-reports/conf_mat/round3-train-dataset_fc_square-{size}-random_filters_h_kl.csv'\n",
    "    for A in [None]: #['vgg', 'wideresnet', 'resnet', 'densenet', 'mobilenet', 'shufflenet', 'squeezenet', 'inception', 'googlenet']:\n",
    "        X, y = read_features(path_csv, trigger_type_aux_str=None, arch=None, data='hkl', append_arch=False, arch_one_hot=False) #['vgg', 'resnet' (includes wideresnet), 'densenet', 'mobilenet', 'shufflenet', 'squeezenet', 'inception', 'googlenet', None]:\n",
    "    #     X, y = X[2:,[0, 2, 4, 6]], y[2:]\n",
    "    #     X, y = X[2:,:], y[2:]\n",
    "        scores_roc, scores_xent = [], []\n",
    "        print(X.shape, y.shape)\n",
    "        print(X[0,:].tolist())\n",
    "        try:\n",
    "            for _ in range(n_repeats):\n",
    "                kfold =  StratifiedKFold(n_splits=n_splits, shuffle=True)\n",
    "                for train_index, test_index in kfold.split(X, y):\n",
    "                    X_train, y_train = X[train_index, :], y[train_index]\n",
    "                    X_test, y_test = X[test_index, :], y[test_index]\n",
    "\n",
    "    #                 model = RandomForestClassifier(n_estimators=100)\n",
    "                    model = RandomForestClassifier(n_estimators=500)\n",
    "    #                 model = GradientBoostingClassifier(n_estimators=100, loss='deviance')\n",
    "    #                 model = GradientBoostingClassifier(n_estimators=100, loss='exponential')\n",
    "    #                 model = svm.SVC(C=1, probability=True, kernel='rbf')\n",
    "\n",
    "#                     model = LogisticRegression(C=0.5)\n",
    "#                     scaler = StandardScaler()\n",
    "#                     scaler.fit(X_train)\n",
    "#                     X_train = scaler.transform(np.copy(X_train))\n",
    "#                     X_test = scaler.transform(np.copy(X_test))\n",
    "\n",
    "                    roc, xent = evaluate_classifier(model, X_train, y_train, X_test, y_test)\n",
    "                    scores_roc.append(roc)\n",
    "                    scores_xent.append(xent)\n",
    "        except ValueError as e:\n",
    "            print('ERROR')\n",
    "            print(e)\n",
    "        print(f'size={size}')\n",
    "        print(f'CE mean={np.mean(scores_xent):.3f}, CE std={np.std(scores_xent):.3f}')\n",
    "        print('-------------------------------------------------------------------------')\n",
    "print('done')"
   ]
  },
  {
   "cell_type": "markdown",
   "metadata": {},
   "source": [
    "# HPO for training data"
   ]
  },
  {
   "cell_type": "code",
   "execution_count": null,
   "metadata": {},
   "outputs": [],
   "source": [
    "# path_csv = fr'confusion-reports\\ics_fc\\round3-train-dataset\\round3-train-dataset_fc_square-30-gray_filters.csv'\n",
    "path_csv = fr'confusion-reports\\ics_fc\\round3-train-dataset\\round3-train-dataset_fc_square-30-random_filters.csv'\n",
    "# path_csv = fr'confusion-reports\\ics_svm\\round3-train-dataset\\round3-train-dataset_square-30_filters.csv'\n",
    "# path_csv = fr'confusion-reports\\ics_svm\\round3-train-dataset\\round3-train-dataset_square-30-random_filters.csv'\n",
    "X, y = read_features(path_csv, trigger_type_aux_str=None, arch=None, data='diffs', append_arch=True)\n",
    "print(X.shape)\n",
    "params = {\n",
    "    \"C\": [0.01 + i * 0.01 for i in range(1000)]\n",
    "}\n",
    "grid_cv = GridSearchCV(estimator=LogisticRegression(),\n",
    "                       param_grid=params,\n",
    "                       cv=RepeatedStratifiedKFold(n_splits=5, n_repeats=1, random_state=1),\n",
    "                       scoring=make_scorer(log_loss, greater_is_better=False, needs_proba=True),\n",
    "                       n_jobs=-1)\n",
    "grid_cv.fit(X, y)\n",
    "\n",
    "# print('Best params:', grid_cv.best_params_)\n",
    "# print('Best CE:', grid_cv.best_score_)\n",
    "pd.DataFrame.from_dict({\n",
    "    'C': [d['C'] for d in grid_cv.cv_results_['params']],\n",
    "    'CE': -grid_cv.cv_results_['mean_test_score']\n",
    "}).sort_values(['CE'], ascending=True, axis=0)"
   ]
  },
  {
   "cell_type": "markdown",
   "metadata": {},
   "source": [
    "# Train meta-model using square data and filters"
   ]
  },
  {
   "cell_type": "code",
   "execution_count": null,
   "metadata": {
    "scrolled": false
   },
   "outputs": [],
   "source": [
    "# path_csv = fr'confusion-reports\\ics_fc\\round3-train-dataset\\round3-train-dataset_fc_square-30-gray_filters.csv'\n",
    "path_csv = fr'confusion-reports\\ics_fc\\round3-train-dataset\\round3-train-dataset_fc_square-30-random_filters.csv'\n",
    "# path_csv = fr'confusion-reports\\ics_svm\\round3-train-dataset\\round3-train-dataset_square-30-random_filters.csv'\n",
    "# path_csv = fr'confusion-reports/conf_mat/round3-train-dataset_fc_square-30-random_filters_h_kl.csv'\n",
    "for arch in ['vgg', 'resnet', 'densenet', 'mobilenet', 'shufflenet', 'squeezenet', 'inception', 'googlenet']:\n",
    "    X_train, y_train = read_features(path_csv, trigger_type_aux_str=None, arch=arch, data='diffs', append_arch=False, arch_one_hot=False)\n",
    "#     X_train = X_train[2:, :]\n",
    "#     y_train = y_train[2:]\n",
    "    print(arch, X_train.shape)\n",
    "#     scaler=None\n",
    "    scaler = StandardScaler()\n",
    "    scaler.fit(X_train)\n",
    "    X_train = scaler.transform(X_train)\n",
    "\n",
    "#     model = RandomForestClassifier(n_estimators=500)\n",
    "    model = LogisticRegression()\n",
    "    model.fit(X_train, y_train)\n",
    "\n",
    "    name = '../metamodels/metamodel_16_fc_round3_data=diffs_square=30-random_scaler=std_clf=LR-1_arch-features=no_arch-wise-models=yes'\n",
    "#     if os.path.isdir(name):\n",
    "#         shutil.rmtree(name)\n",
    "    if not os.path.isdir(name):\n",
    "        os.mkdir(name)\n",
    "    save_obj(model, f'{name}/model-{arch}.pickle')\n",
    "    save_obj(scaler, f'{name}/scaler-{arch}.pickle')\n",
    "    print('done')"
   ]
  },
  {
   "cell_type": "code",
   "execution_count": null,
   "metadata": {},
   "outputs": [],
   "source": [
    "path_csv = fr'confusion-reports\\ics_fc\\round3-train-dataset\\round3-train-dataset_fc_square-30-gray_filters.csv'\n",
    "\n",
    "X, y = read_features(path_csv, trigger_type_aux_str=None, arch=None, data='diffs')\n",
    "X_train, y_train = X[:500, :], y[:500]\n",
    "X_test, y_test = X[500:, :], y[500:]\n",
    "\n",
    "scaler = StandardScaler()\n",
    "scaler.fit(X_train)\n",
    "X_train = scaler.transform(X_train)\n",
    "model = LogisticRegression(C=1)\n",
    "model.fit(X_train, y_train)\n",
    "ce = 0.0\n",
    "for i in range(X_test.shape[0]):\n",
    "    prob = model.predict_proba(X_test[i,:].reshape(1, -1))\n",
    "    p0, p1 = prob[0]\n",
    "    t = y[i]\n",
    "    local_ce = -(t * np.log2(p1) + (1-t) * np.log2(1-p0))\n",
    "#     print(i, local_ce)\n",
    "    ce += local_ce\n",
    "print(ce / X_test.shape[0])"
   ]
  },
  {
   "cell_type": "markdown",
   "metadata": {},
   "source": [
    "# Train Neural Network"
   ]
  },
  {
   "cell_type": "code",
   "execution_count": 46,
   "metadata": {
    "scrolled": true
   },
   "outputs": [
    {
     "name": "stdout",
     "output_type": "stream",
     "text": [
      "Using diffs\n",
      "Using diffs\n",
      "(1008, 12) (1008,) (288, 12) (288,)\n",
      "Class weights: None\n",
      "\n",
      "Train Loss:      0.551\n",
      "Train Accuracy:  0.810\n",
      "Train Precision: 0.938\n",
      "Train Recall:    0.722\n",
      "\n",
      "Train Log-Loss:  0.354\n",
      "\n",
      "Holdout Loss:      0.657\n",
      "Holdout Accuracy:  0.778\n",
      "Holdout Precision: 0.923\n",
      "Holdout Recall:    0.667\n",
      "Holdout Log-Loss:  0.447\n",
      "done\n"
     ]
    }
   ],
   "source": [
    "def create_neural_network():\n",
    "    model = Sequential()\n",
    "    model.add(Dense(10, input_dim=12, activation='relu'))\n",
    "    model.add(Dense(7, activation='softmax'))\n",
    "    model.compile(loss='categorical_crossentropy', optimizer='adam', metrics=['accuracy'])\n",
    "    return model\n",
    "\n",
    "def cross_validation(data_x, data_y):\n",
    "#     pipeline = Pipeline([('scale', MinMaxScaler()), ('mlp', KerasClassifier(build_fn=create_neural_network, epochs=100, batch_size=32, verbose=0))])\n",
    "#     for _ in range(3):\n",
    "#         pipeline = Pipeline([('mlp', KerasClassifier(build_fn=create_neural_network, epochs=50, batch_size=16, verbose=0))])\n",
    "#         outer_kfold = RepeatedStratifiedKFold(n_splits=10, n_repeats=1, random_state=666)\n",
    "#         for idx_train_val, idx_test in outer_kfold.split(data_x, data_y):\n",
    "#             subset_data_x = data_x[idx_train_val, :]\n",
    "#             subset_data_y = data_y[idx_train_val]\n",
    "#             inner_kfold = RepeatedStratifiedKFold(n_splits=10, n_repeats=1, random_state=666)\n",
    "    n_splits = 4\n",
    "    n_repeats = 3\n",
    "#     weights = np.ones((7,))\n",
    "#     weights = class_weight.compute_class_weight('balanced', np.unique(data_y), data_y)#/ n_splits\n",
    "    pipeline = Pipeline([('mlp', KerasClassifier(build_fn=create_neural_network, epochs=50, batch_size=8, verbose=1))])\n",
    "    kfold = RepeatedStratifiedKFold(n_splits=n_splits, n_repeats=n_repeats, random_state=666)\n",
    "    results = cross_val_score(pipeline, data_x, data_y, cv=kfold, scoring='accuracy', n_jobs=-1)#, fit_params={'sample_weight': weights}) \n",
    "    print(f'CV: acc mean={results.mean():.3f}, acc std={results.std():.3f}')\n",
    "#     results = results[~np.isnan(results)]\n",
    "#     results = results[~np.isinf(results)]\n",
    "#     print(f'CV: CE mean={-results.mean():.3f} CE std={results.std():.3f}')\n",
    "    \n",
    "def train_nn(data_x, data_y, test_x=None, test_y=None):\n",
    "    data_y_onehot = OneHotEncoder().fit_transform(data_y.reshape(-1,1)).toarray()\n",
    "    test_y_onehot = OneHotEncoder().fit_transform(test_y.reshape(-1,1)).toarray()\n",
    "    \n",
    "    data_y_binarized = np.copy(data_y)\n",
    "    data_y_binarized[data_y_binarized > 0] = 1\n",
    "    \n",
    "    test_y_binarized = np.copy(test_y)\n",
    "    test_y_binarized[test_y_binarized > 0] = 1\n",
    "    \n",
    "    model = create_neural_network()\n",
    "#     scaler = MinMaxScaler()\n",
    "#     scaler.fit(data_x)\n",
    "#     data_x_scaled = scaler.transform(data_x)\n",
    "    weights = None # dict(enumerate(class_weight.compute_class_weight('balanced', np.unique(data_y), data_y)))\n",
    "    history = model.fit(data_x, data_y_onehot, epochs=100, batch_size=8, verbose=0, class_weight=weights)\n",
    "    print('Class weights:', weights)\n",
    "    \n",
    "    pred_train = model.predict(data_x)\n",
    "    pred_train_labels = np.argmax(pred_train, axis=1)\n",
    "    \n",
    "    pred_train_binarized = np.copy(pred_train_labels)\n",
    "    pred_train_binarized[pred_train_binarized > 0] = 1\n",
    "    \n",
    "    pred_train_probas = np.zeros((data_x.shape[0], 2))\n",
    "    pred_train_probas[:, 0] = pred_train[:, 0]\n",
    "    pred_train_probas[:, 1] = 1 - pred_train[:, 0]\n",
    "    \n",
    "    loss, accuracy = model.evaluate(data_x, data_y_onehot, verbose=0)\n",
    "    print(f'\\nTrain Loss:      {loss:.3f}')\n",
    "    print(f'Train Accuracy:  {accuracy_score(y_true=data_y, y_pred=pred_train_labels):.3f}')\n",
    "    print(f'Train Precision: {precision_score(y_true=data_y_binarized, y_pred=pred_train_binarized):.3f}')\n",
    "    print(f'Train Recall:    {recall_score(y_true=data_y_binarized, y_pred=pred_train_binarized):.3f}\\n')\n",
    "    print(f'Train Log-Loss:  {log_loss(y_true=data_y_binarized, y_pred=pred_train_probas):.3f}')\n",
    "    \n",
    "    if test_x is not None and test_y is not None:\n",
    "        pred_holdout = model.predict(test_x)\n",
    "        pred_holdout_labels = np.argmax(pred_holdout, axis=1)\n",
    "        \n",
    "        pred_holdout_binarized = np.copy(pred_holdout_labels)\n",
    "        pred_holdout_binarized[pred_holdout_binarized > 0] = 1\n",
    "        \n",
    "        \n",
    "        pred_holdout_probas = np.zeros((test_x.shape[0], 2))\n",
    "        pred_holdout_probas[:, 0] = pred_holdout[:, 0]\n",
    "        pred_holdout_probas[:, 1] = 1 - pred_holdout[:, 0]\n",
    "        \n",
    "        loss, accuracy = model.evaluate(test_x, test_y_onehot, verbose=0)\n",
    "        print(f'\\nHoldout Loss:      {loss:.3f}')\n",
    "        print(f'Holdout Accuracy:  {accuracy_score(y_true=test_y, y_pred=pred_holdout_labels):.3f}')\n",
    "        print(f'Holdout Precision: {precision_score(y_true=test_y_binarized, y_pred=pred_holdout_binarized):.3f}')\n",
    "        print(f'Holdout Recall:    {recall_score(y_true=test_y_binarized, y_pred=pred_holdout_binarized):.3f}')\n",
    "        print(f'Holdout Log-Loss:  {log_loss(y_true=test_y_binarized, y_pred=pred_holdout_probas):.3f}')\n",
    "        \n",
    "#     folder = r'D:\\Cloud\\MEGA\\TrojAI\\TrojAI-UMD\\metamodels\\metamodel_10_round3_NN-60-30_min-max-scaled_RAW_square30_RANDOM_filters_all-classes'\n",
    "#     folder = r'D:\\Cloud\\MEGA\\TrojAI\\TrojAI-UMD\\metamodels\\metamodel_11_round3_NN-60-30_min-max-scaled_RAW_square30_GRAY'\n",
    "#     keras_save(model, folder)\n",
    "#     save_obj(scaler, os.path.join(folder, 'scaler.pickle'))\n",
    "\n",
    "path_train   = 'confusion-reports/ics_fc/round3-train-dataset/round3-train-dataset_fc_square-30-random_filters.csv'\n",
    "path_holdout = 'confusion-reports/ics_fc/round3-holdout-dataset/round3-holdout-dataset_fc_square-30-random_filters.csv'\n",
    "\n",
    "X_train, y_train     = read_features(path_train, trigger_type_aux_str=None, arch=None, data='diffs', label_type='backdoor', append_arch=False, arch_one_hot=False)\n",
    "X_holdout, y_holdout = read_features(path_holdout, trigger_type_aux_str=None, arch=None, data='diffs', label_type='backdoor', append_arch=False, arch_one_hot=False)\n",
    "\n",
    "# y_train = OneHotEncoder().fit_transform(y_train.reshape(-1,1)).toarray()\n",
    "# y_holdout = OneHotEncoder().fit_transform(y_holdout.reshape(-1,1)).toarray()\n",
    "\n",
    "print(X_train.shape, y_train.shape, X_holdout.shape, y_holdout.shape)\n",
    "\n",
    "# cross_validation(X_train, y_train)\n",
    "train_nn(X_train, y_train, X_holdout, y_holdout)\n",
    "print('done')"
   ]
  },
  {
   "cell_type": "markdown",
   "metadata": {},
   "source": [
    "# Local Testing: train on training data and test on holdout data"
   ]
  },
  {
   "cell_type": "code",
   "execution_count": null,
   "metadata": {},
   "outputs": [],
   "source": [
    "path_train_csv = r'confusion-reports\\ics_svm\\round2-train-dataset\\round2-train-dataset_square-25-filters_all-classes_gray.csv'\n",
    "path_holdout_csv = r'confusion-reports\\ics_svm\\round2-holdout-dataset\\round2-holdout-dataset_square-25-filters_all-classes_gray.csv'\n",
    "# path_train_csv = r'confusion-reports\\ics_svm\\round2-train-dataset\\round2-train-dataset_square-25-filters_all-classes_gray_confusion-matrix.csv'\n",
    "# path_holdout_csv = r'confusion-reports\\ics_svm\\round2-holdout-dataset\\round2-holdout-dataset_square-25-filters_all-classes_gray_confusion-matrix.csv'\n",
    "trigger_type_aux_str = None\n",
    "\n",
    "print('Local Testing')\n",
    "if 'confusion-matrix' in path_train_csv and 'confusion-matrix' in path_holdout_csv:\n",
    "    print('Approach: confusion matrix and original CNN')\n",
    "    X_train, y_train = read_features_confusion_matrix(path_train_csv, trigger_type_aux_str)\n",
    "    X_holdout, y_holdout = read_features_confusion_matrix(path_holdout_csv, trigger_type_aux_str)\n",
    "else:\n",
    "    print('Approach: confusion distribution and SDNs')\n",
    "    X_train, y_train = read_features(path_train_csv, trigger_type_aux_str)\n",
    "    X_holdout, y_holdout = read_features(path_holdout_csv, trigger_type_aux_str)\n",
    "\n",
    "print('train shape:', X_train.shape, y_train.shape)\n",
    "print('holdout shape:', X_holdout.shape, y_holdout.shape)\n",
    "\n",
    "roc, xent = evaluate_classifier(X_train, y_train, X_holdout, y_holdout)\n",
    "print(f'ROC AUC = {roc}')\n",
    "print(f'Cross-Entropy = {xent}')"
   ]
  }
 ],
 "metadata": {
  "kernelspec": {
   "display_name": "Python 3",
   "language": "python",
   "name": "python3"
  },
  "language_info": {
   "codemirror_mode": {
    "name": "ipython",
    "version": 3
   },
   "file_extension": ".py",
   "mimetype": "text/x-python",
   "name": "python",
   "nbconvert_exporter": "python",
   "pygments_lexer": "ipython3",
   "version": "3.8.2"
  }
 },
 "nbformat": 4,
 "nbformat_minor": 4
}
