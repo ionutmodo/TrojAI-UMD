{
 "cells": [
  {
   "cell_type": "code",
   "execution_count": 6,
   "metadata": {},
   "outputs": [
    {
     "name": "stdout",
     "output_type": "stream",
     "text": [
      "done\n"
     ]
    }
   ],
   "source": [
    "import sys\n",
    "import numpy as np\n",
    "import pandas as pd\n",
    "pd.set_option('display.width', 1000)\n",
    "pd.set_option('display.max_columns', 500)\n",
    "import seaborn as sns\n",
    "import matplotlib.pyplot as plt\n",
    "import chart_studio.plotly as py\n",
    "import plotly.graph_objs as go\n",
    "from sklearn import svm\n",
    "from sklearn.linear_model import LogisticRegression\n",
    "from sklearn.ensemble import RandomForestClassifier\n",
    "from sklearn.metrics import roc_auc_score, log_loss\n",
    "from sklearn.model_selection import StratifiedKFold, RepeatedStratifiedKFold, cross_val_score\n",
    "from sklearn.preprocessing import StandardScaler, MinMaxScaler\n",
    "from sklearn.pipeline import Pipeline\n",
    "from keras.models import Sequential\n",
    "from keras.layers import Dense\n",
    "from keras.wrappers.scikit_learn import KerasClassifier\n",
    "from tensorflow.keras.metrics import BinaryCrossentropy\n",
    "from methods import *\n",
    "import torch\n",
    "import pickle, os\n",
    "import skopt\n",
    "from skopt import BayesSearchCV, gp_minimize\n",
    "from skopt.space import Integer\n",
    "from skopt.space import Real\n",
    "from skopt.space import Categorical\n",
    "from skopt.utils import use_named_args\n",
    "import warnings\n",
    "warnings.filterwarnings(\"ignore\")\n",
    "print('done')"
   ]
  },
  {
   "cell_type": "code",
   "execution_count": 2,
   "metadata": {},
   "outputs": [],
   "source": [
    "%load_ext autoreload\n",
    "%autoreload 2"
   ]
  },
  {
   "cell_type": "markdown",
   "metadata": {},
   "source": [
    "# Stratified K-fold validation for a full training dataset (square-size and 5 filters)"
   ]
  },
  {
   "cell_type": "code",
   "execution_count": null,
   "metadata": {},
   "outputs": [],
   "source": [
    "# path_csv = r'confusion-reports\\ics_svm\\round2-train-dataset\\round2-train-dataset_square25-filters_triggered_classes.csv' # old dataset\n",
    "# path_csv = r'confusion-reports\\ics_svm\\round2-train-dataset\\round2-train-dataset_square-25-filters_all-classes_gray.csv'\n",
    "# path_csv = r'confusion-reports\\ics_svm\\round2-train-dataset\\round2-train-dataset_square-25-filters_all-classes_gray_confusion-matrix.csv'\n",
    "n_splits = 10\n",
    "n_repeats = 3\n",
    "\n",
    "for size in [10, 15, 20, 25, 30, 35, 40, 45, 50]:\n",
    "    path_csv = fr'confusion-reports\\ics_svm\\round3-train-dataset\\round3-train-dataset_square-{size}-filters_all-classes_gray.csv'\n",
    "    X, y = read_features_raw(path_csv, None)\n",
    "    \n",
    "#     pipeline = Pipeline([('standardize', StandardScaler()), ('LR', get_base_classifier())])\n",
    "    pipeline = Pipeline([('classifier', get_base_classifier())])\n",
    "    kfold = RepeatedStratifiedKFold(n_splits=n_splits, n_repeats=n_repeats, random_state=666)\n",
    "    results = cross_val_score(pipeline, X, y, cv=kfold, scoring='neg_log_loss', n_jobs=-1)\n",
    "    print(f'size={size}: CE mean={-results.mean():.3f}, CE std={results.std():.3f}\\n')\n",
    "print('done')"
   ]
  },
  {
   "cell_type": "code",
   "execution_count": null,
   "metadata": {},
   "outputs": [],
   "source": [
    "# path_csv = r'confusion-reports\\ics_svm\\round3-train-dataset\\round3-train-dataset_square-30-random-filters_all-classes_gray.csv'\n",
    "# X, y = read_features_raw(path_csv, None)\n",
    "# rf = RandomForestClassifier(n_estimators=500)\n",
    "# rf.fit(X, y)"
   ]
  },
  {
   "cell_type": "markdown",
   "metadata": {},
   "source": [
    "# HPO for training data"
   ]
  },
  {
   "cell_type": "code",
   "execution_count": null,
   "metadata": {
    "scrolled": true
   },
   "outputs": [],
   "source": [
    "# path_csv = r'confusion-reports\\ics_svm\\round2-train-dataset\\round2-train-dataset_square-25-filters_all-classes_gray.csv'\n",
    "path_csv = r'confusion-reports\\ics_svm\\round3-train-dataset\\round3-train-dataset_square-30-filters_all-classes_gray.csv'\n",
    "\n",
    "trigger_type_aux_str = None\n",
    "if 'confusion-matrix' in path_csv:\n",
    "    print('Approach: confusion matrix and original CNN')\n",
    "    X, y = read_features_confusion_matrix(path_csv, trigger_type_aux_str)\n",
    "else:\n",
    "    print('Approach: confusion distribution and SDNs')\n",
    "    X, y = read_features(path_csv, trigger_type_aux_str) # clean data is automatically added\n",
    "print(X.shape, y.shape)\n",
    "\n",
    "search_space = list()\n",
    "## LogisticRegression params\n",
    "search_space.append(Real(0.001, 100.0, 'log-uniform', name='C'))\n",
    "\n",
    "## SVM params\n",
    "# search_space.append(Real(0.00001, 100.0, 'log-uniform', name='C'))\n",
    "# # search_space.append(Integer(1, 5, name='degree'))\n",
    "# # search_space.append(Real(0.00001, 100.0, 'log-uniform', name='gamma'))\n",
    "# search_space.append(Categorical(['scale'], name='gamma'))\n",
    "# # search_space.append(Categorical(['rbf'], name='kernel'))\n",
    "# search_space.append(Categorical(['rbf'], name='kernel')) # linear, poly, rbf, sigmoid\n",
    "\n",
    "@use_named_args(search_space)\n",
    "def evaluate_model(**params):\n",
    "    model = LogisticRegression()\n",
    "    model.set_params(**params)\n",
    "#     params['probability'] = True\n",
    "#     model = svm.SVC()\n",
    "#     model.set_params(**params)\n",
    "    cv = RepeatedStratifiedKFold(n_splits=10, n_repeats=3, random_state=1)\n",
    "    result = cross_val_score(model, X, y, cv=cv, n_jobs=-1, scoring='neg_log_loss')\n",
    "    estimate = np.mean(result)\n",
    "    return abs(estimate)\n",
    "\n",
    "result = gp_minimize(evaluate_model, search_space)\n",
    "print('Best Score: %.3f' % (result.fun))\n",
    "print('Best Parameters: %s' % (result.x))"
   ]
  },
  {
   "cell_type": "markdown",
   "metadata": {},
   "source": [
    "# Local Testing: train on training data and test on holdout data"
   ]
  },
  {
   "cell_type": "code",
   "execution_count": null,
   "metadata": {},
   "outputs": [],
   "source": [
    "path_train_csv = r'confusion-reports\\ics_svm\\round2-train-dataset\\round2-train-dataset_square-25-filters_all-classes_gray.csv'\n",
    "path_holdout_csv = r'confusion-reports\\ics_svm\\round2-holdout-dataset\\round2-holdout-dataset_square-25-filters_all-classes_gray.csv'\n",
    "# path_train_csv = r'confusion-reports\\ics_svm\\round2-train-dataset\\round2-train-dataset_square-25-filters_all-classes_gray_confusion-matrix.csv'\n",
    "# path_holdout_csv = r'confusion-reports\\ics_svm\\round2-holdout-dataset\\round2-holdout-dataset_square-25-filters_all-classes_gray_confusion-matrix.csv'\n",
    "trigger_type_aux_str = None\n",
    "\n",
    "print('Local Testing')\n",
    "if 'confusion-matrix' in path_train_csv and 'confusion-matrix' in path_holdout_csv:\n",
    "    print('Approach: confusion matrix and original CNN')\n",
    "    X_train, y_train = read_features_confusion_matrix(path_train_csv, trigger_type_aux_str)\n",
    "    X_holdout, y_holdout = read_features_confusion_matrix(path_holdout_csv, trigger_type_aux_str)\n",
    "else:\n",
    "    print('Approach: confusion distribution and SDNs')\n",
    "    X_train, y_train = read_features(path_train_csv, trigger_type_aux_str)\n",
    "    X_holdout, y_holdout = read_features(path_holdout_csv, trigger_type_aux_str)\n",
    "\n",
    "print('train shape:', X_train.shape, y_train.shape)\n",
    "print('holdout shape:', X_holdout.shape, y_holdout.shape)\n",
    "\n",
    "roc, xent = evaluate_classifier(X_train, y_train, X_holdout, y_holdout)\n",
    "print(f'ROC AUC = {roc}')\n",
    "print(f'Cross-Entropy = {xent}')"
   ]
  },
  {
   "cell_type": "markdown",
   "metadata": {},
   "source": [
    "# Train meta-model using square data and filters"
   ]
  },
  {
   "cell_type": "code",
   "execution_count": null,
   "metadata": {},
   "outputs": [],
   "source": [
    "# path_csv = r'confusion-reports\\ics_svm\\round2-train-dataset\\round2-train-dataset_square-30-filters_all-classes_gray.csv'\n",
    "path_csv = r'confusion-reports\\ics_svm\\round3-train-dataset\\round3-train-dataset_square-30-filters_all-classes_gray.csv'\n",
    "\n",
    "X_train, y_train = read_features(path_csv, None)\n",
    "# model = svm.SVC(C=11, kernel='rbf', gamma='scale', probability=True)\n",
    "model = LogisticRegression(C=1.78)\n",
    "model.fit(X_train, y_train)\n",
    "save_obj(model, r'..\\metamodels\\metamodel_09_round3_data=diffs_square=30-GRAY_scaler=NO_clf=LR.pickle')\n",
    "print('done')"
   ]
  },
  {
   "cell_type": "markdown",
   "metadata": {},
   "source": [
    "# Train Neural Network"
   ]
  },
  {
   "cell_type": "code",
   "execution_count": null,
   "metadata": {
    "scrolled": true
   },
   "outputs": [],
   "source": [
    "def create_neural_network():\n",
    "    model = Sequential()\n",
    "    model.add(Dense(60, input_dim=14, activation='relu'))\n",
    "    model.add(Dense(30, activation='relu'))\n",
    "    model.add(Dense(1, activation='sigmoid'))\n",
    "    model.compile(loss='binary_crossentropy', optimizer='adam', metrics=['accuracy'])\n",
    "    return model\n",
    "\n",
    "def cross_validation(data_x, data_y):\n",
    "#     pipeline = Pipeline([('scale', MinMaxScaler()), ('mlp', KerasClassifier(build_fn=create_neural_network, epochs=100, batch_size=32, verbose=0))])\n",
    "#     for _ in range(3):\n",
    "#         pipeline = Pipeline([('mlp', KerasClassifier(build_fn=create_neural_network, epochs=50, batch_size=16, verbose=0))])\n",
    "#         outer_kfold = RepeatedStratifiedKFold(n_splits=10, n_repeats=1, random_state=666)\n",
    "#         for idx_train_val, idx_test in outer_kfold.split(data_x, data_y):\n",
    "#             subset_data_x = data_x[idx_train_val, :]\n",
    "#             subset_data_y = data_y[idx_train_val]\n",
    "#             inner_kfold = RepeatedStratifiedKFold(n_splits=10, n_repeats=1, random_state=666)\n",
    "    pipeline = Pipeline([('mlp', KerasClassifier(build_fn=create_neural_network, epochs=400, batch_size=32, verbose=0))])\n",
    "    kfold = RepeatedStratifiedKFold(n_splits=5, n_repeats=1, random_state=666)\n",
    "    results = cross_val_score(pipeline, data_x, data_y, cv=kfold, scoring='neg_log_loss', n_jobs=-1)\n",
    "    results = results[~np.isnan(results)]\n",
    "    results = results[~np.isinf(results)]\n",
    "    print(f'CV: CE mean={-results.mean():.3f} CE std={results.std():.3f}')\n",
    "    \n",
    "def train_nn(data_x, data_y, test_x=None, test_y=None):\n",
    "    model = create_neural_network()\n",
    "    scaler = MinMaxScaler()\n",
    "    scaler.fit(data_x)\n",
    "    data_x_scaled = scaler.transform(data_x)\n",
    "    history = model.fit(data_x_scaled, data_y, epochs=100, batch_size=32, verbose=0)\n",
    "    \n",
    "    loss, accuracy = model.evaluate(data_x_scaled, data_y, verbose=0)\n",
    "    print(f'Train: loss={loss:.3f} accuracy={accuracy:.3f}')\n",
    "    \n",
    "    if test_x is not None and test_y is not None:\n",
    "        loss, accuracy = model.evaluate(test_x, test_y, verbose=0)\n",
    "        print(f'Test: loss={loss:.3f} accuracy={accuracy:.3f}')\n",
    "        \n",
    "#     folder = r'D:\\Cloud\\MEGA\\TrojAI\\TrojAI-UMD\\metamodels\\metamodel_10_round3_NN-60-30_min-max-scaled_RAW_square30_RANDOM_filters_all-classes'\n",
    "    folder = r'D:\\Cloud\\MEGA\\TrojAI\\TrojAI-UMD\\metamodels\\metamodel_11_round3_NN-60-30_min-max-scaled_RAW_square30_GRAY'\n",
    "    keras_save(model, folder)\n",
    "    save_obj(scaler, os.path.join(folder, 'scaler.pickle'))\n",
    "\n",
    "path_csv = r'confusion-reports\\ics_svm\\round3-train-dataset\\round3-train-dataset_square-30-filters_all-classes_gray.csv'\n",
    "X, y = read_features_raw(path_csv, None)\n",
    "\n",
    "# n = 800\n",
    "# X_train, y_train = X[:n, :], y[:n]\n",
    "# X_test, y_test = X[n:, :], y[n:]\n",
    "# print(X_train.shape, y_train.shape) #, X_test.shape, y_test.shape)\n",
    "\n",
    "\n",
    "# cross_validation(X, y)\n",
    "train_nn(X, y)\n",
    "print('done')"
   ]
  },
  {
   "cell_type": "markdown",
   "metadata": {},
   "source": [
    "# merge or simplify datasets"
   ]
  },
  {
   "cell_type": "code",
   "execution_count": 7,
   "metadata": {},
   "outputs": [],
   "source": [
    "def select_columns_from_dataset():\n",
    "    df = pd.read_csv(r'confusion-reports\\ics_svm\\round3-train-dataset\\round3-train-dataset_square-25-filters_all-classes_gray.csv')\n",
    "    for col_to_delete in ['square25_mean_diff', 'square25_std_diff', 'square25_mean', 'square25_std']:\n",
    "        del df[col_to_delete]\n",
    "    df.to_csv(r'confusion-reports\\ics_svm\\round3-train-dataset\\round3-train-dataset_filters_all-classes_gray.csv', index=False)\n",
    "    print('done')\n",
    "\n",
    "def merge_datasets():\n",
    "    for size in [25, 30, 35, 40, 45, 50]:\n",
    "        df1 = pd.read_csv(r'confusion-reports\\ics_svm\\round3-train-dataset\\round3-train-dataset_filters_all-classes_gray.csv')\n",
    "        df2 = pd.read_csv(r'confusion-reports\\ics_svm\\round3-train-dataset\\round3-train-dataset_squares-random-all-classes-gray.csv')\n",
    "        df3 = pd.read_csv(r'confusion-reports\\ics_svm\\round3-train-dataset\\round3-columns.csv')\n",
    "        for col in [f'square{size}_r_mean_diff', f'square{size}_r_std_diff', f'square{size}_r_mean', f'square{size}_r_std']:\n",
    "            df1[col] = df2[col]\n",
    "        df1['trigger_type_aux'] = df3['trigger_type_aux']\n",
    "        new_order_for_columns = [\n",
    "            'model_name', 'model_architecture', 'model_label',\n",
    "            'trigger_type_aux',\n",
    "\n",
    "            f'square{size}_r_mean_diff', f'square{size}_r_std_diff',\n",
    "            'gotham_mean_diff', 'gotham_std_diff',\n",
    "            'kelvin_mean_diff', 'kelvin_std_diff',\n",
    "            'lomo_mean_diff', 'lomo_std_diff',\n",
    "            'nashville_mean_diff', 'nashville_std_diff',\n",
    "            'toaster_mean_diff', 'toaster_std_diff',\n",
    "\n",
    "            'clean_mean', 'clean_std',\n",
    "            f'square{size}_r_mean', f'square{size}_r_std',\n",
    "            'gotham_mean', 'gotham_std',\n",
    "            'kelvin_mean', 'kelvin_std',\n",
    "            'lomo_mean', 'lomo_std',\n",
    "            'nashville_mean', 'nashville_std',\n",
    "            'toaster_mean', 'toaster_std',\n",
    "\n",
    "            'trigger_color', 'num_classes',\n",
    "        ]\n",
    "        df1 = df1[new_order_for_columns]\n",
    "        df1.to_csv(fr'confusion-reports\\ics_svm\\round3-train-dataset\\round3-train-dataset_square-{size}-random-filters_all-classes_gray.csv', index=False) \n",
    "        print('done')\n",
    "\n",
    "def correct_column_in_dataset():\n",
    "    df_with_correct_column = pd.read_csv(r'confusion-reports\\ics_svm\\round3-train-dataset\\round3-columns.csv')\n",
    "    column = 'trigger_type_aux'\n",
    "    for size in [10, 15, 20, 25,30, 35, 40, 45, 50]:\n",
    "        file = fr'confusion-reports\\ics_svm\\round3-train-dataset\\round3-train-dataset_square-{size}-filters_all-classes_gray.csv'\n",
    "        df_to_be_corrected = pd.read_csv(file)\n",
    "        df_to_be_corrected[column] = df_with_correct_column[column]\n",
    "        df_to_be_corrected.to_csv(file, index=False)\n",
    "# merge_datasets()\n",
    "# select_columns_from_dataset()\n",
    "correct_column_in_dataset()\n",
    "print('done')"
   ]
  },
  {
   "cell_type": "markdown",
   "metadata": {},
   "source": [
    "# create correct trigger_type_aux column"
   ]
  },
  {
   "cell_type": "code",
   "execution_count": null,
   "metadata": {},
   "outputs": [],
   "source": [
    "metadata = pd.read_csv(r'D:\\Cloud\\MEGA\\TrojAI\\TrojAI-data\\round3-train-dataset\\METADATA.csv')\n",
    "# metadata.columns\n",
    "metadata = metadata[['model_name', 'poisoned', 'model_architecture', 'trigger_type', 'instagram_filter_type', 'polygon_side_count']]\n",
    "metadata['trigger_type_aux'] = [''] * len(metadata)\n",
    "# set(metadata['instagram_filter_type'].to_list())\n",
    "for i in range(len(metadata)):\n",
    "    trigger_type = metadata['trigger_type'].iloc[i]\n",
    "    instagram_filter_type = metadata['instagram_filter_type'].iloc[i].lower().replace('filter','').replace('xform', '')\n",
    "    polygon_side_count = metadata['polygon_side_count'].iloc[i]\n",
    "    if trigger_type == 'None':\n",
    "        metadata['trigger_type_aux'].iloc[i] = 'none'\n",
    "    elif trigger_type == 'instagram':\n",
    "        metadata['trigger_type_aux'].iloc[i] = f'instagram-{instagram_filter_type}'\n",
    "    elif trigger_type == 'polygon':\n",
    "        metadata['trigger_type_aux'].iloc[i] = f'polygon-{polygon_side_count}'\n",
    "metadata.to_csv(rf'D:\\Cloud\\MEGA\\TrojAI\\TrojAI-UMD\\notebooks\\confusion-reports\\ics_svm\\round3-train-dataset\\round3-columns.csv', index=False)"
   ]
  }
 ],
 "metadata": {
  "kernelspec": {
   "display_name": "Python 3",
   "language": "python",
   "name": "python3"
  },
  "language_info": {
   "codemirror_mode": {
    "name": "ipython",
    "version": 3
   },
   "file_extension": ".py",
   "mimetype": "text/x-python",
   "name": "python",
   "nbconvert_exporter": "python",
   "pygments_lexer": "ipython3",
   "version": "3.8.5"
  }
 },
 "nbformat": 4,
 "nbformat_minor": 4
}
